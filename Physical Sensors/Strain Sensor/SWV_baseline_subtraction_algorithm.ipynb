{
 "cells": [
  {
   "cell_type": "code",
   "execution_count": null,
   "id": "92236968-f695-4b4d-8845-da13e16ae168",
   "metadata": {},
   "outputs": [],
   "source": [
    "import pandas as pd\n",
    "import numpy as np\n",
    "import matplotlib.pyplot as plt\n",
    "from scipy import stats\n",
    "import scipy\n",
    "import copy\n",
    "import matplotlib.gridspec as gridspec\n",
    "import pybaselines.polynomial\n",
    "from scipy import signal\n",
    "%matplotlib inline"
   ]
  },
  {
   "cell_type": "code",
   "execution_count": null,
   "id": "c9b8e88f-58ce-49f4-ab2f-74e93eb9f5df",
   "metadata": {},
   "outputs": [],
   "source": [
    "# Import warnings; and specify them all to be ignored.\n",
    "import warnings\n",
    "warnings.filterwarnings('ignore')\n",
    "plt.rcdefaults()"
   ]
  },
  {
   "cell_type": "code",
   "execution_count": null,
   "id": "50c4c08d-e93b-4309-8afc-52001ea95f82",
   "metadata": {},
   "outputs": [],
   "source": [
    "def start_row(path):\n",
    "    myFile = open(path)\n",
    "    text = myFile.readline()\n",
    "    row = 0\n",
    "    while 'Potential/V' not in text:\n",
    "        row = row + 1\n",
    "        text = myFile.readline()\n",
    "    myFile.close()\n",
    "    return row"
   ]
  },
  {
   "cell_type": "code",
   "execution_count": null,
   "id": "68def4b1-8fb7-4561-887b-bf892429a503",
   "metadata": {},
   "outputs": [],
   "source": [
    "def peak_range(signal_df, v_peak, width):\n",
    "    temp_df = copy.deepcopy(signal_df)\n",
    "    b, a = signal.butter(2, 0.1, fs=5)\n",
    "    temp_df[' Diff(i/A)'] = signal.filtfilt(b, a, temp_df[' Diff(i/A)'])\n",
    "    pi = temp_df[ temp_df['Potential/V'] == v_peak ].index[0]\n",
    "    (imax, jmax) = (0, 0)\n",
    "    ph1 = abs(temp_df[ temp_df['Potential/V'] == v_peak ][' Diff(i/A)'].iloc[0])\n",
    "    phmax = 0\n",
    "    v_1 = 0\n",
    "    v_2 = 0\n",
    "    sl_max = 0\n",
    "    in_max = 0\n",
    "    \n",
    "    if (pi+width > len(temp_df[' Diff(i/A)'])):\n",
    "        width = len(temp_df[' Diff(i/A)'])-pi\n",
    "    \n",
    "    if (pi < width):\n",
    "        width = pi\n",
    "        \n",
    "    for i in range(1,width):\n",
    "        for j in range(1,width):\n",
    "            ytemp = [temp_df[' Diff(i/A)'][pi - j], temp_df[' Diff(i/A)'][pi + i]]\n",
    "            xtemp = [temp_df['Potential/V'][pi - j], temp_df['Potential/V'][pi + i]]\n",
    "            slope, intercept, r, p, se = scipy.stats.linregress(xtemp, ytemp)\n",
    "            ph2 = abs( slope*temp_df['Potential/V'][pi]+intercept )\n",
    "            ph = ph1 - ph2\n",
    "            # print(ph)\n",
    "            if ph > phmax:\n",
    "                sl_max = slope\n",
    "                in_max = intercept\n",
    "                phmax = ph\n",
    "                (imax, jmax) = (i, j)\n",
    "                v_1 = temp_df['Potential/V'][pi - jmax]\n",
    "                v_2 = temp_df['Potential/V'][pi + imax]\n",
    "    temp_df['v_peak'] = temp_df[ (temp_df['Potential/V'] > v_1) & (temp_df['Potential/V'] < v_2) ]['Potential/V']\n",
    "    temp_df['i_peak'] = temp_df[ (temp_df['Potential/V'] > v_1) & (temp_df['Potential/V'] < v_2) ][' Diff(i/A)']\n",
    "    temp_df['i_peak'] = abs( temp_df['i_peak'] - (temp_df['v_peak']*sl_max + in_max) )\n",
    "    return temp_df, v_1, v_2"
   ]
  },
  {
   "cell_type": "code",
   "execution_count": null,
   "id": "5d79095e-b473-4bbe-8b29-d8a5a1b45179",
   "metadata": {},
   "outputs": [],
   "source": [
    "def Fitting(signal_df, cut_begin, cut_end, peak_start, peak_end, p_order, mode: str):\n",
    "    temp_df = copy.deepcopy(signal_df)\n",
    "    \n",
    "    if cut_begin != 0:\n",
    "        temp_df = temp_df[ temp_df['Potential/V'] > cut_begin ]\n",
    "\n",
    "    if cut_end != 0:\n",
    "        temp_df = temp_df[ temp_df['Potential/V'] < cut_end ]\n",
    "    \n",
    "    if mode == 'DPV':\n",
    "        temp_df[' Current/A'] = abs(temp_df[' Current/A'])\n",
    "        signal_df_masked = temp_df[ (temp_df['Potential/V'] < peak_start) | (temp_df['Potential/V'] > peak_end) ]\n",
    "        _, params = pybaselines.polynomial.poly(signal_df_masked[' Current/A'], signal_df_masked['Potential/V'], poly_order=p_order, return_coef=True)\n",
    "        signal_bline = np.polynomial.Polynomial(params['coef'])(temp_df['Potential/V'])\n",
    "        temp_df['BackgroundI'] = signal_bline\n",
    "        temp_df['SubtractedI'] = temp_df[' Current/A']-signal_bline\n",
    "        \n",
    "    elif mode == 'SWV':\n",
    "        temp_df[' Diff(i/A)'] = abs(temp_df[' Diff(i/A)'])\n",
    "        signal_df_masked = temp_df[ (temp_df['Potential/V'] < peak_start) | (temp_df['Potential/V'] > peak_end) ]\n",
    "        _, params = pybaselines.polynomial.poly(signal_df_masked[' Diff(i/A)'], signal_df_masked['Potential/V'], poly_order=p_order, return_coef=True)\n",
    "        signal_bline = np.polynomial.Polynomial(params['coef'])(temp_df['Potential/V'])\n",
    "        temp_df['BackgroundI'] = signal_bline\n",
    "        temp_df['SubtractedI'] = temp_df[' Diff(i/A)']-signal_bline\n",
    "    \n",
    "    return temp_df"
   ]
  },
  {
   "cell_type": "code",
   "execution_count": null,
   "id": "6bae8e0f-5231-4328-9299-a6fdf1b0024a",
   "metadata": {},
   "outputs": [],
   "source": [
    "E22 = { '0':['E22/0 nm.txt'],\n",
    "       '10':['E22/10 nm.txt'],\n",
    "       '50':['E22/50 nm.txt'],\n",
    "       '100':['E22/110 nm.txt'],\n",
    "       '200':['E22/210 nm.txt'],\n",
    "       '400':['E22/410 nm.txt'],\n",
    "       '500':['E22/510 nM.txt'],\n",
    "       '700':['E22/710 nM.txt'],\n",
    "       '1000':['E22/1010 nM.txt']}"
   ]
  },
  {
   "cell_type": "code",
   "execution_count": null,
   "id": "83248492-d9fb-405f-b0fe-eb33dfb233e7",
   "metadata": {},
   "outputs": [],
   "source": [
    "for dict in [E22]:\n",
    "    for key in dict.keys():\n",
    "        for i in range(len(dict[key])):\n",
    "            temp_df = pd.read_csv(dict[key][i], skiprows=start_row(dict[key][i]))\n",
    "            temp_df, v_1, v_2 = peak_range(temp_df, 0.340, 60)\n",
    "            if v_1 == 0:\n",
    "                v_1 = 0.28\n",
    "                v_2 = 0.48\n",
    "            temp_df = Fitting(temp_df, cut_begin=0.25, cut_end=0.52, peak_start=v_1, peak_end=v_2, p_order=3, mode='SWV')\n",
    "            dict[key][i] = temp_df"
   ]
  },
  {
   "cell_type": "code",
   "execution_count": null,
   "id": "d1c39e71-9168-4e28-88d9-e08f554ad33b",
   "metadata": {},
   "outputs": [],
   "source": [
    "df_peaks = pd.DataFrame(columns=[])\n",
    "\n",
    "for (dict,elec) in [(E22,'E22')]:\n",
    "    for key in dict.keys():\n",
    "        temp_list = [elec,key]\n",
    "        for df in dict[key]:\n",
    "            temp_list.append(1e9*df[ (df['Potential/V'] > 0.3) & (df['Potential/V'] < 0.45) ]['SubtractedI'].max())\n",
    "        temp_df = pd.DataFrame(temp_list)\n",
    "        df_peaks = pd.concat([df_peaks, temp_df.T], ignore_index=True, axis=0)\n",
    "\n",
    "df_peaks.set_index(0, inplace=True)\n",
    "df_peaks.to_excel('Peak_values.xlsx')"
   ]
  },
  {
   "cell_type": "code",
   "execution_count": null,
   "id": "d17b17cf-9033-435f-9f9a-3e461aaf208a",
   "metadata": {},
   "outputs": [],
   "source": [
    "df_cal = pd.read_excel('Peak_values_e.xlsx', index_col='conc')\n",
    "x_cal = df_cal.index.astype('float')\n",
    "y_cal = df_cal['AVG'].astype('float')\n",
    "\n",
    "slope_cal, intercept_cal, r_value, p_value, std_err = scipy.stats.linregress(x_cal, y_cal)\n",
    "text_cal = '\\n'.join((\n",
    "    r'$y=%.2fx+%.2f$' % (slope_cal, intercept_cal),\n",
    "    r'$R^2=%.3f$' % (r_value**2)))"
   ]
  },
  {
   "cell_type": "code",
   "execution_count": null,
   "id": "2d2fcec2-8411-46ea-8a61-fb5836d5a100",
   "metadata": {},
   "outputs": [],
   "source": []
  }
 ],
 "metadata": {
  "kernelspec": {
   "display_name": "Python 3 (ipykernel)",
   "language": "python",
   "name": "python3"
  },
  "language_info": {
   "codemirror_mode": {
    "name": "ipython",
    "version": 3
   },
   "file_extension": ".py",
   "mimetype": "text/x-python",
   "name": "python",
   "nbconvert_exporter": "python",
   "pygments_lexer": "ipython3",
   "version": "3.11.5"
  }
 },
 "nbformat": 4,
 "nbformat_minor": 5
}
